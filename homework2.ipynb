{
  "cells": [
    {
      "cell_type": "markdown",
      "metadata": {
        "id": "2DX2EmSHaxjp"
      },
      "source": [
        "### №1. Swap\n",
        "\n",
        "Найдите максимальный и минимальный элементы в массиве и поменяйте их местами.\n",
        "\n",
        "Входные данные:\n",
        "\n",
        "На вход программе сначала подается значение 𝑛 ≤ 100 — количество элементов в массиве. В следующей строке входных данных расположены сами элементы массива — целые числа.\n",
        "\n",
        "```bash\n",
        "5\n",
        "1 5 4 3 2\n",
        "```\n",
        "\n",
        "Выведите все числа в одну строку через пробел.\n",
        "\n",
        "```bash\n",
        "5 1 4 3 2\n",
        "```\n",
        "\n"
      ]
    },
    {
      "cell_type": "code",
      "execution_count": null,
      "metadata": {
        "colab": {
          "base_uri": "https://localhost:8080/"
        },
        "id": "SgXRj3Nhaxjs",
        "outputId": "3ecca047-8920-4a49-d5df-4627c051e17b"
      },
      "outputs": [
        {
          "output_type": "stream",
          "name": "stdout",
          "text": [
            "5\n",
            " 1 5 4 3 2\n",
            "5 1 4 3 2\n"
          ]
        }
      ],
      "source": [
        "n = int(input())\n",
        "l = list(map(int, input().split()))\n",
        "\n",
        "min = l[0]\n",
        "max = l[0]\n",
        "min_index = 0\n",
        "max_index = 0\n",
        "\n",
        "for i in range(n):\n",
        "    if l[i] < min:\n",
        "        min = l[i]\n",
        "        min_index = i\n",
        "    if l[i] > max:\n",
        "        max = l[i]\n",
        "        max_index = i\n",
        "\n",
        "l[min_index], l[max_index] = l[max_index], l[min_index]\n",
        "\n",
        "print(*l)"
      ]
    },
    {
      "cell_type": "markdown",
      "metadata": {
        "id": "PkHzF7fHaxjs"
      },
      "source": [
        "### №2. Произведение.\n",
        "\n",
        "В массиве, заполненном произвольными целыми числами, найдите два числа, произведение которых максимально. Вложенные циклы не используйте\n",
        "\n",
        "Входные данные:\n",
        "\n",
        "На вход программе сначала подается значение 𝑛≤100000 — количество элементов в массиве. В следующей строке входных данных расположены сами элементы массива - целые числа.\n",
        "\n",
        "Выведите эти два числа"
      ]
    },
    {
      "cell_type": "markdown",
      "metadata": {
        "id": "bcNAMBhzaxju"
      },
      "source": [
        "```bash\n",
        "5\n",
        "-4 3 -5 2 5\n",
        "```\n",
        "Ответ\n",
        "```bash\n",
        "-5 -4\n",
        "```"
      ]
    },
    {
      "cell_type": "code",
      "execution_count": null,
      "metadata": {
        "colab": {
          "base_uri": "https://localhost:8080/"
        },
        "id": "GnIO6Oovaxju",
        "outputId": "d1273d1e-7941-4b53-aee2-bdf09527a80d"
      },
      "outputs": [
        {
          "output_type": "stream",
          "name": "stdout",
          "text": [
            "5\n",
            "-4 3 -5 2 5\n",
            "-5 -4\n"
          ]
        }
      ],
      "source": [
        "n = int(input())\n"
      ]
    },
    {
      "cell_type": "markdown",
      "metadata": {
        "id": "z2xRCkl5axju"
      },
      "source": [
        "### №3. Полиглоты.\n",
        "\n",
        "Каждый из 𝑁 школьников некоторой школы знает 𝑀𝑖 языков. Определите, какие языки знают все школьники и языки, которые знает хотя бы один из школьников.\n",
        "\n",
        "Входные данные\n",
        "Первая строка входных данных содержит количество школьников 𝑁. Далее идет 𝑁 чисел 𝑀𝑖, после каждого из чисел идет 𝑀𝑖 строк, содержащих названия языков, которые знает 𝑖-й школьник. Длина названий языков не превышает 1000 символов, количество различных языков не более 1000. 1≤𝑁≤1000, 1≤𝑀𝑖≤500.\n",
        "\n",
        "В первой строке выведите количество языков, которые знают все школьники. Начиная со второй строки - список таких языков. Затем - количество языков, которые знает хотя бы один школьник, на следующих строках - список таких языков.\n",
        "\n",
        "Входные данные:\n",
        "```bash\n",
        "3\n",
        "3\n",
        "Russian\n",
        "English\n",
        "Japanese\n",
        "2\n",
        "Russian\n",
        "English\n",
        "1\n",
        "English\n",
        "```\n",
        "\n",
        "Результат:\n",
        "```bash\n",
        "1\n",
        "English\n",
        "3\n",
        "Russian\n",
        "Japanese\n",
        "English\n",
        "```"
      ]
    },
    {
      "cell_type": "code",
      "execution_count": null,
      "metadata": {
        "colab": {
          "base_uri": "https://localhost:8080/"
        },
        "id": "TNWyWmFQaxjv",
        "outputId": "71fd5bfa-da93-4bd8-a7db-a3b1783dc5da"
      },
      "outputs": [
        {
          "output_type": "stream",
          "name": "stdout",
          "text": [
            "3\n",
            "3\n",
            "Russian\n",
            "English\n",
            "Japanese\n",
            "2\n",
            "Russian\n",
            "English\n",
            "1\n",
            "English\n",
            "1\n",
            "English\n",
            "3\n",
            "English\n",
            "Japanese\n",
            "Russian\n"
          ]
        }
      ],
      "source": [
        "n = int(input())\n",
        "all_languages = set()\n",
        "common_languages = set()\n",
        "\n",
        "for i in range(n):\n",
        "    m = int(input())\n",
        "    languages = set()\n",
        "    for j in range(m):\n",
        "        lang = input()\n",
        "        languages.add(lang)\n",
        "        all_languages.add(lang)\n",
        "    if i == 0:\n",
        "        common_languages = languages\n",
        "    else:\n",
        "        common_languages &= languages\n",
        "\n",
        "print(len(common_languages))\n",
        "for lang in list(common_languages):\n",
        "    print(lang)\n",
        "\n",
        "print(len(all_languages))\n",
        "for lang in list(all_languages):\n",
        "    print(lang)"
      ]
    },
    {
      "cell_type": "markdown",
      "metadata": {
        "id": "KxS8zsxkaxjv"
      },
      "source": [
        "### №4. Магазин.\n",
        "\n",
        "Дана база данных о продажах некоторого интернет-магазина. Каждая строка входного файла представляет собой запись вида Покупатель товар количество, где Покупатель — имя покупателя (строка без пробелов), товар — название товара (строка без пробелов), количество — количество приобретенных единиц товара.\n",
        "\n",
        "Создайте список всех покупателей, а для каждого покупателя подсчитайте количество приобретенных им единиц каждого вида товаров.\n",
        "\n",
        "Входные данные:\n",
        "```bash\n",
        "6\n",
        "Ivanov paper 10\n",
        "Petrov pens 5\n",
        "Ivanov marker 3\n",
        "Ivanov paper 7\n",
        "Petrov envelope 20\n",
        "Ivanov envelope 5\n",
        "```\n",
        "\n",
        "Результат:\n",
        "```bash\n",
        "Ivanov:\n",
        "envelope 5\n",
        "marker 3\n",
        "paper 17\n",
        "Petrov:\n",
        "envelope 20\n",
        "pens 5\n",
        "```"
      ]
    },
    {
      "cell_type": "code",
      "execution_count": null,
      "metadata": {
        "colab": {
          "base_uri": "https://localhost:8080/"
        },
        "id": "IPFZ2qfwaxjv",
        "outputId": "eeeb104f-b65d-4bbf-9603-528732f1bd3f"
      },
      "outputs": [
        {
          "output_type": "stream",
          "name": "stdout",
          "text": [
            "6\n",
            "Ivanov paper 10\n",
            "Petrov pens 5\n",
            "Ivanov marker 3\n",
            "Ivanov paper 7\n",
            "Petrov envelope 20\n",
            "Ivanov envelope 5\n",
            "Ivanov:\n",
            "envelope 5\n",
            "marker 3\n",
            "paper 17\n",
            "Petrov:\n",
            "envelope 20\n",
            "pens 5\n"
          ]
        }
      ],
      "source": [
        "n = int(input())\n",
        "sales_data = {}\n",
        "\n",
        "for i in range(n):\n",
        "    customer, product, quantity = input().split()\n",
        "    quantity = int(quantity)\n",
        "    if customer not in sales_data:\n",
        "        sales_data[customer] = {}\n",
        "    if product not in sales_data[customer]:\n",
        "        sales_data[customer][product] = 0\n",
        "    sales_data[customer][product] += quantity\n",
        "\n",
        "for customer in sorted(sales_data.keys()):\n",
        "    print(customer + \":\")\n",
        "    for product in sorted(sales_data[customer].keys()):\n",
        "        print(product, sales_data[customer][product])"
      ]
    },
    {
      "cell_type": "markdown",
      "metadata": {
        "id": "aIPgiZkgaxjw"
      },
      "source": [
        "### №5 Посчитай повторы\n",
        "\n",
        "Даны n строк. Выведите все слова, встречающиеся в строках, по одному на каждую строку. Слова должны быть отсортированы по убыванию их количества появления в тексте, а при одинаковой частоте появления — в лексикографическом порядке.\n",
        "\n",
        "Указание. После того, как вы создадите словарь всех слов, вам захочется отсортировать его по частоте встречаемости слова. Желаемого можно добиться, если создать список, элементами которого будут кортежи из двух элементов: частота встречаемости слова и само слово. Например, [(2, 'hi'), (1, 'what'), (3, 'is')]. Тогда стандартная сортировка будет сортировать список кортежей, при этом кортежи сравниваются по первому элементу, а если они равны — то по второму. Это почти то, что требуется в задаче.\n",
        "\n",
        "Входные данные:\n",
        "```bash\n",
        "9\n",
        "hi\n",
        "hi\n",
        "what is your name\n",
        "my name is bond\n",
        "james bond\n",
        "my name is damme\n",
        "van damme\n",
        "claude van damme\n",
        "jean claude van damme\n",
        "```\n",
        "\n",
        "Результат:\n",
        "```bash\n",
        "damme\n",
        "is\n",
        "name\n",
        "van\n",
        "bond\n",
        "claude\n",
        "hi\n",
        "my\n",
        "james\n",
        "jean\n",
        "what\n",
        "your\n",
        "```"
      ]
    },
    {
      "cell_type": "code",
      "execution_count": null,
      "metadata": {
        "id": "I8R89JLgaxjw",
        "colab": {
          "base_uri": "https://localhost:8080/"
        },
        "outputId": "00b45a52-90fc-403a-8b8f-1056db45a7bd"
      },
      "outputs": [
        {
          "output_type": "stream",
          "name": "stdout",
          "text": [
            "9\n",
            "hi\n",
            "hi\n",
            "what is your name\n",
            "my name is bond\n",
            "james bond\n",
            "my name is damme\n",
            "van damme\n",
            "claude van damme\n",
            "jean claude van damme\n",
            "damme\n",
            "is\n",
            "name\n",
            "van\n",
            "bond\n",
            "claude\n",
            "hi\n",
            "my\n",
            "james\n",
            "jean\n",
            "what\n",
            "your\n"
          ]
        }
      ],
      "source": [
        "from collections import defaultdict\n",
        "\n",
        "n = int(input())\n",
        "word_counts = defaultdict(int)\n",
        "\n",
        "for i in range(n):\n",
        "    line = input().split()\n",
        "    for word in line:\n",
        "        word_counts[word] += 1\n",
        "\n",
        "word_list = []\n",
        "for word, count in word_counts.items():\n",
        "    word_list.append((-count, word))\n",
        "\n",
        "word_list.sort()\n",
        "\n",
        "for count, word in word_list:\n",
        "    print(word)"
      ]
    },
    {
      "cell_type": "markdown",
      "metadata": {
        "id": "qPhFud7zaxjx"
      },
      "source": [
        "### №6 Угадай число\n",
        "\n",
        "Август и Беатриса играют в игру. Август загадал натуральное число от 1 до n. Беатриса пытается угадать это число, для этого она называет некоторые множества натуральных чисел. Август отвечает Беатрисе YES, если среди названных ей чисел есть задуманное или NO в противном случае. После нескольких заданных вопросов Беатриса запуталась в том, какие вопросы она задавала и какие ответы получила и просит вас помочь ей определить, какие числа мог задумать Август.\n",
        "\n",
        "Первая строка входных данных содержит число n — наибольшее число, которое мог загадать Август. Далее идут строки, содержащие вопросы Беатрисы. Каждая строка представляет собой набор чисел, разделенных пробелами. После каждой строки с вопросом идет ответ Августа: YES или NO.\n",
        "\n",
        "Наконец, последняя строка входных данных содержит одно слово HELP.\n",
        "\n",
        "Вы должны вывести (через пробел, в порядке возрастания) все числа, которые мог задумать Август.\n",
        "\n",
        "Входные данные:\n",
        "```bash\n",
        "10\n",
        "1 2 3 4 5\n",
        "YES\n",
        "2 4 6 8 10\n",
        "NO\n",
        "HELP\n",
        "```\n",
        "\n",
        "Результат:\n",
        "```bash\n",
        "1 3 5\n",
        "```"
      ]
    },
    {
      "cell_type": "code",
      "execution_count": null,
      "metadata": {
        "id": "UDtDkxotaxjx",
        "colab": {
          "base_uri": "https://localhost:8080/"
        },
        "outputId": "a084b64c-6e10-4a17-c953-bd45d8e70eb2"
      },
      "outputs": [
        {
          "output_type": "stream",
          "name": "stdout",
          "text": [
            "10\n",
            "1 2 3 4 5\n",
            "YES\n",
            "2 4 6 8 10\n",
            "NO\n",
            "HELP\n",
            "1 3 5\n"
          ]
        }
      ],
      "source": [
        "n = int(input())\n",
        "possible_numbers = set(range(1, n + 1))\n",
        "\n",
        "while True:\n",
        "    line = input()\n",
        "    if line == \"HELP\":\n",
        "        break\n",
        "\n",
        "    numbers_in_question = set(map(int, line.split()))\n",
        "    answer = input()\n",
        "\n",
        "    if answer == \"YES\":\n",
        "        possible_numbers &= numbers_in_question\n",
        "    else:\n",
        "        possible_numbers -= numbers_in_question\n",
        "\n",
        "sorted_possible_numbers = sorted(list(possible_numbers))\n",
        "print(*sorted_possible_numbers)"
      ]
    },
    {
      "cell_type": "markdown",
      "metadata": {
        "id": "4rLXMzhFaxjx"
      },
      "source": [
        "### №7 Посчитай и проверь\n",
        "\n",
        "На вход программе сначала подается значение 𝑛 ≤ 100 — количество элементов в массиве. В следующей строке входных данных расположены сами элементы массива — целые числа, по модулю не превосходящие 30000. Распечатайте только те значения элементов массива, которые встречаются в нем ровно один раз. Элементы следует распечатывать в том порядке, в котором они встречаются в массиве. Создавать новые массивы нельзя.\n",
        "\n",
        "\n",
        "\n",
        "```bash\n",
        "8\n",
        "4 3 5 2 5 1 3 5\n",
        "```\n",
        "\n",
        "Выходные данные:\n",
        "```bash\n",
        "4 2 1\n",
        "```\n"
      ]
    },
    {
      "cell_type": "code",
      "execution_count": null,
      "metadata": {
        "id": "NjsvXSnYaxjx"
      },
      "outputs": [],
      "source": [
        "n = int(input())\n",
        "l = list(map(int, input().split()))\n",
        "\n",
        "for i in range(n):\n",
        "    is_unique = True\n",
        "    for j in range(n):\n",
        "        if i != j and l[i] == l[j]:\n",
        "            is_unique = False\n",
        "            break\n",
        "    if is_unique:\n",
        "        print(l[i], end=\" \")"
      ]
    }
  ],
  "metadata": {
    "kernelspec": {
      "display_name": "misis",
      "language": "python",
      "name": "python3"
    },
    "language_info": {
      "codemirror_mode": {
        "name": "ipython",
        "version": 3
      },
      "file_extension": ".py",
      "mimetype": "text/x-python",
      "name": "python",
      "nbconvert_exporter": "python",
      "pygments_lexer": "ipython3",
      "version": "3.11.10"
    },
    "colab": {
      "provenance": []
    }
  },
  "nbformat": 4,
  "nbformat_minor": 0
}